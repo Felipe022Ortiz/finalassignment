{
 "cells": [
  {
   "cell_type": "markdown",
   "id": "d61058da",
   "metadata": {},
   "source": [
    "# Data Science Tools and Ecosystem #"
   ]
  },
  {
   "cell_type": "markdown",
   "id": "7c0b9d85",
   "metadata": {},
   "source": [
    "### In this notebook, Data Science Tools and Ecosystem are summarized. ###"
   ]
  },
  {
   "cell_type": "markdown",
   "id": "1b6e117c",
   "metadata": {},
   "source": [
    "***Objectives:***\n",
    "\n",
    "- Data Science Programming Languages\n",
    "- Libraries used by Data Scientists\n",
    "- Data science tools\n",
    "- Evaluating arithmetic expressions"
   ]
  },
  {
   "cell_type": "markdown",
   "id": "0867f91f",
   "metadata": {},
   "source": [
    "#### Some of the popular languages that Data Scientists use are: ####\n",
    "    \n",
    "1. Python\n",
    "2. R\n",
    "3. SQL\n",
    "4. Java\n",
    "    "
   ]
  },
  {
   "cell_type": "markdown",
   "id": "83e0bd81",
   "metadata": {},
   "source": [
    "#### Some of the commonly used libraries used by Data Scientists include: ####\n",
    "\n",
    "1. Matplotlib\n",
    "2. Seaborn\n",
    "3. Pandas\n",
    "4. Scikit-learn\n",
    "5. TensorFlow"
   ]
  },
  {
   "cell_type": "markdown",
   "id": "767e7558",
   "metadata": {},
   "source": [
    "|Data Science Tools|\n",
    "| ---------------- |\n",
    "| Jupiter |\n",
    "| Visual Studio Code |\n",
    "| Google Colab |\n",
    "| Git |"
   ]
  },
  {
   "cell_type": "markdown",
   "id": "0251143e",
   "metadata": {},
   "source": [
    "### Below are a few examples of evaluating arithmetic expressions in Python ###"
   ]
  },
  {
   "cell_type": "code",
   "execution_count": 5,
   "id": "5752b202",
   "metadata": {},
   "outputs": [
    {
     "data": {
      "text/plain": [
       "17"
      ]
     },
     "execution_count": 5,
     "metadata": {},
     "output_type": "execute_result"
    }
   ],
   "source": [
    "(3*4)+5 #This a simple arithmetic expression to mutiply then add integers"
   ]
  },
  {
   "cell_type": "code",
   "execution_count": 8,
   "id": "490fb830",
   "metadata": {},
   "outputs": [
    {
     "name": "stdout",
     "output_type": "stream",
     "text": [
      "3.3333333333333335\n"
     ]
    }
   ],
   "source": [
    "m = 200\n",
    "h = m*(1/60) #This will convert 200 minutes to hours by diving by 60\n",
    "print(h)"
   ]
  },
  {
   "cell_type": "markdown",
   "id": "670f3adf",
   "metadata": {},
   "source": [
    "## Author ##\n",
    "\n",
    "Andrés Felipe Ortiz Zapata"
   ]
  },
  {
   "cell_type": "code",
   "execution_count": null,
   "id": "fcd96e02",
   "metadata": {},
   "outputs": [],
   "source": []
  }
 ],
 "metadata": {
  "kernelspec": {
   "display_name": "Python 3 (ipykernel)",
   "language": "python",
   "name": "python3"
  },
  "language_info": {
   "codemirror_mode": {
    "name": "ipython",
    "version": 3
   },
   "file_extension": ".py",
   "mimetype": "text/x-python",
   "name": "python",
   "nbconvert_exporter": "python",
   "pygments_lexer": "ipython3",
   "version": "3.11.5"
  }
 },
 "nbformat": 4,
 "nbformat_minor": 5
}
